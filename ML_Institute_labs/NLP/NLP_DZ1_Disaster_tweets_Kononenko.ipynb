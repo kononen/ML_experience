{
 "cells": [
  {
   "cell_type": "code",
   "execution_count": 45,
   "id": "3ef0fc1c-fb71-4b12-bdd7-8cb96e3e3e9f",
   "metadata": {},
   "outputs": [],
   "source": [
    "import pandas as pd\n",
    "import numpy as np\n",
    "import nltk\n",
    "import re\n",
    "from nltk.corpus import stopwords\n",
    "from nltk.stem import WordNetLemmatizer"
   ]
  },
  {
   "cell_type": "code",
   "execution_count": 40,
   "id": "0cf00b38-26fa-4c8f-a1e1-7bd02130605b",
   "metadata": {},
   "outputs": [],
   "source": [
    "df = pd.read_csv('train.csv')\n",
    "#print(df)"
   ]
  },
  {
   "cell_type": "code",
   "execution_count": 37,
   "id": "3d1f26d5-7e13-4177-9a28-9fe42ff7059c",
   "metadata": {},
   "outputs": [
    {
     "name": "stdout",
     "output_type": "stream",
     "text": [
      "        id                keyword     location  \\\n",
      "6069  8669               sinkhole          NaN   \n",
      "5542  7907  radiation%20emergency          NaN   \n",
      "2362  3398             demolition          NaN   \n",
      "5557  7932              rainstorm  Memphis, TN   \n",
      "3737  5310                   fear          USA   \n",
      "\n",
      "                                                   text  target  \n",
      "6069  Sinkhole swallows Brooklyn intersection ÛÒ vi...       1  \n",
      "5542  Who Else Wants Documents Radiation Emergency P...       0  \n",
      "2362  7 Christians detained in Zhejiang amid widespr...       0  \n",
      "5557  If you can't have the roar of the waves a rain...       0  \n",
      "3737  Daily Reflections\\nAugust 6\\nDRIVEN\\nDriven by...       0  \n"
     ]
    }
   ],
   "source": [
    "with pd.option_context('display.max_columns', None):\n",
    "    print(df.sample(5))"
   ]
  },
  {
   "cell_type": "code",
   "execution_count": 41,
   "id": "b8040285-a9eb-456c-8361-059c891edd07",
   "metadata": {},
   "outputs": [],
   "source": [
    "# pd.set_option('display.max_colwidth', None)\n",
    "#print(df['keyword'].unique())\n",
    "#print(df.isna().sum())\n",
    "# df.sample(5)['text']"
   ]
  },
  {
   "cell_type": "code",
   "execution_count": 43,
   "id": "f572d401-0d70-4e06-8f4e-13e1dfa0263b",
   "metadata": {},
   "outputs": [],
   "source": [
    "# print('shape before = ', df.shape)\n",
    "# df = df.dropna()"
   ]
  },
  {
   "cell_type": "code",
   "execution_count": 20,
   "id": "c32664d1-b56b-4211-851a-25a469545cb3",
   "metadata": {},
   "outputs": [
    {
     "data": {
      "text/html": [
       "<div>\n",
       "<style scoped>\n",
       "    .dataframe tbody tr th:only-of-type {\n",
       "        vertical-align: middle;\n",
       "    }\n",
       "\n",
       "    .dataframe tbody tr th {\n",
       "        vertical-align: top;\n",
       "    }\n",
       "\n",
       "    .dataframe thead th {\n",
       "        text-align: right;\n",
       "    }\n",
       "</style>\n",
       "<table border=\"1\" class=\"dataframe\">\n",
       "  <thead>\n",
       "    <tr style=\"text-align: right;\">\n",
       "      <th></th>\n",
       "      <th>id</th>\n",
       "      <th>target</th>\n",
       "    </tr>\n",
       "  </thead>\n",
       "  <tbody>\n",
       "    <tr>\n",
       "      <th>count</th>\n",
       "      <td>5080.000000</td>\n",
       "      <td>5080.000000</td>\n",
       "    </tr>\n",
       "    <tr>\n",
       "      <th>mean</th>\n",
       "      <td>5407.112598</td>\n",
       "      <td>0.432283</td>\n",
       "    </tr>\n",
       "    <tr>\n",
       "      <th>std</th>\n",
       "      <td>3116.359041</td>\n",
       "      <td>0.495442</td>\n",
       "    </tr>\n",
       "    <tr>\n",
       "      <th>min</th>\n",
       "      <td>48.000000</td>\n",
       "      <td>0.000000</td>\n",
       "    </tr>\n",
       "    <tr>\n",
       "      <th>25%</th>\n",
       "      <td>2728.750000</td>\n",
       "      <td>0.000000</td>\n",
       "    </tr>\n",
       "    <tr>\n",
       "      <th>50%</th>\n",
       "      <td>5360.500000</td>\n",
       "      <td>0.000000</td>\n",
       "    </tr>\n",
       "    <tr>\n",
       "      <th>75%</th>\n",
       "      <td>8086.000000</td>\n",
       "      <td>1.000000</td>\n",
       "    </tr>\n",
       "    <tr>\n",
       "      <th>max</th>\n",
       "      <td>10833.000000</td>\n",
       "      <td>1.000000</td>\n",
       "    </tr>\n",
       "  </tbody>\n",
       "</table>\n",
       "</div>"
      ],
      "text/plain": [
       "                 id       target\n",
       "count   5080.000000  5080.000000\n",
       "mean    5407.112598     0.432283\n",
       "std     3116.359041     0.495442\n",
       "min       48.000000     0.000000\n",
       "25%     2728.750000     0.000000\n",
       "50%     5360.500000     0.000000\n",
       "75%     8086.000000     1.000000\n",
       "max    10833.000000     1.000000"
      ]
     },
     "execution_count": 20,
     "metadata": {},
     "output_type": "execute_result"
    }
   ],
   "source": [
    "df.describe()"
   ]
  },
  {
   "cell_type": "markdown",
   "id": "da274272-f185-4291-9872-2dcbcb03e32f",
   "metadata": {},
   "source": [
    "### Нормализация текста "
   ]
  },
  {
   "cell_type": "code",
   "execution_count": 46,
   "id": "2f0ec36b-4ee9-43e9-a2b1-12f6fda13568",
   "metadata": {},
   "outputs": [
    {
     "name": "stderr",
     "output_type": "stream",
     "text": [
      "[nltk_data] Downloading package stopwords to /Users/rust/nltk_data...\n",
      "[nltk_data]   Unzipping corpora/stopwords.zip.\n",
      "[nltk_data] Downloading package wordnet to /Users/rust/nltk_data...\n",
      "[nltk_data] Downloading package omw-1.4 to /Users/rust/nltk_data...\n"
     ]
    },
    {
     "name": "stdout",
     "output_type": "stream",
     "text": [
      "                                                                                                                                    text  \\\n",
      "0                                                                  Our Deeds are the Reason of this #earthquake May ALLAH Forgive us all   \n",
      "1                                                                                                 Forest fire near La Ronge Sask. Canada   \n",
      "2  All residents asked to 'shelter in place' are being notified by officers. No other evacuation or shelter in place orders are expected   \n",
      "3                                                                      13,000 people receive #wildfires evacuation orders in California    \n",
      "4                                               Just got sent this photo from Ruby #Alaska as smoke from #wildfires pours into a school    \n",
      "\n",
      "                                                                              clean_text  \n",
      "0                                                        deed reason may allah forgive u  \n",
      "1                                                  forest fire near la ronge sask canada  \n",
      "2  resident asked shelter place notified officer evacuation shelter place order expected  \n",
      "3                                             people receive evacuation order california  \n",
      "4                                                 got sent photo ruby smoke pours school  \n"
     ]
    }
   ],
   "source": [
    "# Загрузка стоп-слов и лемматизатора\n",
    "nltk.download('stopwords')\n",
    "nltk.download('wordnet')\n",
    "nltk.download('omw-1.4')\n",
    "\n",
    "stop_words = set(stopwords.words('english'))\n",
    "lemmatizer = WordNetLemmatizer()\n",
    "\n",
    "# Функция для очистки и нормализации текста\n",
    "def normalize_text(text):\n",
    "    # Приведение к нижнему регистру\n",
    "    text = text.lower()\n",
    "    # Удаление ссылок и упоминаний\n",
    "    text = re.sub(r'http\\S+|www.\\S+|@\\w+|#\\w+', '', text)\n",
    "    # Удаление цифр\n",
    "    text = re.sub(r'\\d+', '', text)\n",
    "    # Удаление пунктуации\n",
    "    text = re.sub(r'[^\\w\\s]', '', text)\n",
    "    # Токенизация\n",
    "    words = text.split()\n",
    "    # Удаление стоп-слов и лемматизация\n",
    "    words = [lemmatizer.lemmatize(word) for word in words if word not in stop_words]\n",
    "    # Объединение обратно в строку\n",
    "    return ' '.join(words)\n",
    "\n",
    "df['clean_text'] = df['text'].apply(normalize_text)\n",
    "\n",
    "# Просмотр первых нескольких строк\n",
    "print(df[['text', 'clean_text']].head())"
   ]
  },
  {
   "cell_type": "markdown",
   "id": "dae95982-ed6a-461c-86d0-7e753ec1c09e",
   "metadata": {},
   "source": [
    "### Разделяем данные на обучающую и тестовую выборки "
   ]
  },
  {
   "cell_type": "code",
   "execution_count": 48,
   "id": "dd114e9f-edff-4336-a5ec-8b6de03c74a8",
   "metadata": {},
   "outputs": [],
   "source": [
    "from sklearn.model_selection import train_test_split\n",
    "\n",
    "y = df['target']\n",
    "X = df['clean_text']\n",
    "\n",
    "X_train, X_test, y_train, y_test = train_test_split(X, y, test_size=0.2, random_state=42)"
   ]
  },
  {
   "cell_type": "markdown",
   "id": "183e823e-9a4a-40a1-a349-8d3e191dbe41",
   "metadata": {},
   "source": [
    "### 3. Обучаем логистическую регрессию со стохастическим градиентным спуском, используя TF-IDF\n",
    "#### - Преобразование текста в TF-IDF вектора"
   ]
  },
  {
   "cell_type": "code",
   "execution_count": 61,
   "id": "449ead2e-6d2f-4bb0-8b56-90e043decaed",
   "metadata": {},
   "outputs": [
    {
     "name": "stdout",
     "output_type": "stream",
     "text": [
      "Размерность матрицы TF-IDF для тренинга: (6090, 1989)\n",
      "Размерность матрицы TF-IDF для теста: (1523, 1989)\n"
     ]
    }
   ],
   "source": [
    "from sklearn.feature_extraction.text import TfidfVectorizer\n",
    "\n",
    "# Удаляем слова, которые встречаются менее чем в 5 документах\n",
    "tfidf = TfidfVectorizer(min_df=5)\n",
    "\n",
    "# Обучение словаря и преобразование текстов\n",
    "X_train_tfidf = tfidf.fit_transform(X_train)\n",
    "X_test_tfidf = tfidf.transform(X_test)\n",
    "\n",
    "print(f'Размерность матрицы TF-IDF для тренинга: {X_train_tfidf.shape}')\n",
    "print(f'Размерность матрицы TF-IDF для теста: {X_test_tfidf.shape}')"
   ]
  },
  {
   "cell_type": "markdown",
   "id": "01165993-8a5a-42db-97cf-6f8ea2f56a1d",
   "metadata": {},
   "source": [
    "#### Обучение модели логистической регрессии, используя SGDClassifier "
   ]
  },
  {
   "cell_type": "code",
   "execution_count": 63,
   "id": "84f9b6bd-7a98-47e8-a778-830b4f3180c5",
   "metadata": {},
   "outputs": [
    {
     "name": "stdout",
     "output_type": "stream",
     "text": [
      "Точность на тренировочном наборе: 0.8629\n",
      "Точность на тестовом наборе: 0.7879\n",
      "F1-мера на тренировочном наборе: 0.8572\n",
      "F1-мера на тестовом наборе: 0.7784\n"
     ]
    }
   ],
   "source": [
    "from sklearn.linear_model import SGDClassifier\n",
    "from sklearn.metrics import accuracy_score, f1_score\n",
    "import matplotlib.pyplot as plt\n",
    "\n",
    "sgd = SGDClassifier(loss='log_loss', random_state=42)\n",
    "\n",
    "sgd.fit(X_train_tfidf, y_train)\n",
    "\n",
    "y_train_pred = sgd.predict(X_train_tfidf)\n",
    "y_test_pred = sgd.predict(X_test_tfidf)\n",
    "\n",
    "accuracy_train = accuracy_score(y_train, y_train_pred)\n",
    "accuracy_test = accuracy_score(y_test, y_test_pred)\n",
    "f1_train = f1_score(y_train, y_train_pred, average='macro')\n",
    "f1_test = f1_score(y_test, y_test_pred, average='macro')\n",
    "\n",
    "print(f'Точность на тренировочном наборе: {accuracy_train:.4f}')\n",
    "print(f'Точность на тестовом наборе: {accuracy_test:.4f}')\n",
    "print(f'F1-мера на тренировочном наборе: {f1_train:.4f}')\n",
    "print(f'F1-мера на тестовом наборе: {f1_test:.4f}')"
   ]
  },
  {
   "cell_type": "markdown",
   "id": "6ea44798-5934-49d1-8cba-f4d2986c8d76",
   "metadata": {},
   "source": [
    "#### - Анализ слов с наибольшим весом "
   ]
  },
  {
   "cell_type": "code",
   "execution_count": 65,
   "id": "8eab8a6c-f46b-47af-9857-0c6b1225a7e0",
   "metadata": {},
   "outputs": [
    {
     "name": "stdout",
     "output_type": "stream",
     "text": [
      "Топ 10 положительных слов:\n",
      "     название слова       вес\n",
      "539      earthquake  3.235174\n",
      "260      california  3.221177\n",
      "215         bombing  3.220384\n",
      "1678        suicide  3.141018\n",
      "830       hiroshima  3.122982\n",
      "1923       wildfire  3.109999\n",
      "942          killed  3.084328\n",
      "110          atomic  2.756953\n",
      "1784          train  2.716877\n",
      "1771        tornado  2.660067\n",
      "\n",
      "Топ 10 отрицательных слов:\n",
      "     название слова       вес\n",
      "714            full -2.409359\n",
      "1183            new -2.247688\n",
      "872              im -2.214458\n",
      "173          better -2.143300\n",
      "1463           ruin -2.140092\n",
      "990             let -2.129038\n",
      "133             bag -2.117944\n",
      "1883           want -2.048625\n",
      "1248      panicking -2.038925\n",
      "543            ebay -1.985938\n"
     ]
    }
   ],
   "source": [
    "feature_names = tfidf.get_feature_names_out()\n",
    "\n",
    "# Коэффициенты модели\n",
    "coefs = sgd.coef_[0]\n",
    "\n",
    "weights_df = pd.DataFrame({'название слова': feature_names, 'вес': coefs})\n",
    "\n",
    "top_positive = weights_df.sort_values(by='вес', ascending=False).head(10)\n",
    "top_negative = weights_df.sort_values(by='вес').head(10)\n",
    "\n",
    "print('Топ 10 положительных слов:')\n",
    "print(top_positive)\n",
    "print('\\nТоп 10 отрицательных слов:')\n",
    "print(top_negative)"
   ]
  },
  {
   "cell_type": "markdown",
   "id": "a251df6b-ce61-4588-a71c-41fa21c2873c",
   "metadata": {},
   "source": [
    "#### Рисование графика функции потерь"
   ]
  },
  {
   "cell_type": "code",
   "execution_count": 75,
   "id": "69190cfc-dde3-4946-85b1-35048c28e3f8",
   "metadata": {},
   "outputs": [
    {
     "name": "stdout",
     "output_type": "stream",
     "text": [
      "Epoch 1/10, Loss на тренинге: 0.3753, Loss на тесте: 0.4729\n",
      "Epoch 2/10, Loss на тренинге: 0.3689, Loss на тесте: 0.4691\n",
      "Epoch 3/10, Loss на тренинге: 0.3687, Loss на тесте: 0.4687\n",
      "Epoch 4/10, Loss на тренинге: 0.3689, Loss на тесте: 0.4686\n",
      "Epoch 5/10, Loss на тренинге: 0.3693, Loss на тесте: 0.4686\n",
      "Epoch 6/10, Loss на тренинге: 0.3695, Loss на тесте: 0.4686\n",
      "Epoch 7/10, Loss на тренинге: 0.3697, Loss на тесте: 0.4686\n",
      "Epoch 8/10, Loss на тренинге: 0.3699, Loss на тесте: 0.4686\n",
      "Epoch 9/10, Loss на тренинге: 0.3701, Loss на тесте: 0.4686\n",
      "Epoch 10/10, Loss на тренинге: 0.3702, Loss на тесте: 0.4686\n"
     ]
    },
    {
     "data": {
      "image/png": "[encoded data removed]",
      "text/plain": [
       "<Figure size 640x480 with 1 Axes>"
      ]
     },
     "metadata": {},
     "output_type": "display_data"
    }
   ],
   "source": [
    "from sklearn.metrics import log_loss\n",
    "\n",
    "n_epochs = 10\n",
    "train_losses = []\n",
    "test_losses = []\n",
    "\n",
    "sgd = SGDClassifier(loss='log_loss', max_iter=1, tol=None, random_state=42)  # max_iter=1 для одной эпохи\n",
    "\n",
    "for epoch in range(n_epochs):\n",
    "    sgd.partial_fit(X_train_tfidf, y_train, classes=np.unique(y_train))\n",
    "    # Предсказания вероятностей для вычисления лосса\n",
    "    y_train_prob = sgd.predict_proba(X_train_tfidf)\n",
    "    y_test_prob = sgd.predict_proba(X_test_tfidf)\n",
    "\n",
    "    loss_train = log_loss(y_train, y_train_prob)\n",
    "    loss_test = log_loss(y_test, y_test_prob)\n",
    "    train_losses.append(loss_train)\n",
    "    test_losses.append(loss_test)\n",
    "    print(f'Epoch {epoch+1}/{n_epochs}, Loss на тренинге: {loss_train:.4f}, Loss на тесте: {loss_test:.4f}')\n",
    "\n",
    "# Построение графика\n",
    "plt.plot(range(1, n_epochs+1), train_losses, label='Train Loss')\n",
    "plt.plot(range(1, n_epochs+1), test_losses, label='Test Loss')\n",
    "plt.xlabel('Epochs')\n",
    "plt.ylabel('Log Loss')\n",
    "plt.title('Log Loss по эпохам')\n",
    "plt.legend()\n",
    "plt.show()\n"
   ]
  },
  {
   "cell_type": "markdown",
   "id": "5c28f14b-0cfc-4092-8736-949680f728e5",
   "metadata": {},
   "source": [
    "#### видим, что на трейне и на тестев уже после первой эпохи ошибка ложиться на плато"
   ]
  },
  {
   "cell_type": "markdown",
   "id": "5deecb0c-0ee3-453c-badd-11901e888e6b",
   "metadata": {},
   "source": [
    "### 4. L1 регуляризация. Эксперименты весами "
   ]
  },
  {
   "cell_type": "code",
   "execution_count": 71,
   "id": "88daf35a-014b-4f81-be5b-af78201889c4",
   "metadata": {},
   "outputs": [
    {
     "name": "stdout",
     "output_type": "stream",
     "text": [
      "Точность с L1 на тренировочном наборе: 0.8496\n",
      "Точность с L1 на тестовом наборе: 0.7827\n",
      "F1-мера с L1 на тренировочном наборе: 0.8434\n",
      "F1-мера с L1 на тестовом наборе: 0.7739\n"
     ]
    }
   ],
   "source": [
    "sgd_l1 = SGDClassifier(loss='log_loss', penalty='l1', alpha=0.0001, random_state=42)\n",
    "\n",
    "sgd_l1.fit(X_train_tfidf, y_train)\n",
    "\n",
    "y_train_pred_l1 = sgd_l1.predict(X_train_tfidf)\n",
    "y_test_pred_l1 = sgd_l1.predict(X_test_tfidf)\n",
    "\n",
    "accuracy_train_l1 = accuracy_score(y_train, y_train_pred_l1)\n",
    "accuracy_test_l1 = accuracy_score(y_test, y_test_pred_l1)\n",
    "f1_train_l1 = f1_score(y_train, y_train_pred_l1, average='macro')\n",
    "f1_test_l1 = f1_score(y_test, y_test_pred_l1, average='macro')\n",
    "\n",
    "print(f'Точность с L1 на тренировочном наборе: {accuracy_train_l1:.4f}')\n",
    "print(f'Точность с L1 на тестовом наборе: {accuracy_test_l1:.4f}')\n",
    "print(f'F1-мера с L1 на тренировочном наборе: {f1_train_l1:.4f}')\n",
    "print(f'F1-мера с L1 на тестовом наборе: {f1_test_l1:.4f}')"
   ]
  },
  {
   "cell_type": "markdown",
   "id": "0b781c59-ee08-4e1b-8af8-0042ba7cee03",
   "metadata": {},
   "source": [
    "#### показываем разницу, насколько увеличилась точность с L1 регуляризацией"
   ]
  },
  {
   "cell_type": "code",
   "execution_count": 74,
   "id": "b560e26d-0732-4682-89c0-54e10233da37",
   "metadata": {},
   "outputs": [
    {
     "name": "stdout",
     "output_type": "stream",
     "text": [
      "Мера accuracy. Прирост точности с L1 на тренировочном наборе: -0.0133\n",
      "Мера accuracy. Прирост точности с L1 на тестовом наборе: -0.0053\n",
      "F1-мера. Прирост с L1 на тренировочном наборе: 0.0000\n",
      "F1-мера. Прирост с L1 на тестовом наборе: -0.0045\n"
     ]
    }
   ],
   "source": [
    "print(f'Мера accuracy. Прирост точности с L1 на тренировочном наборе: {accuracy_train_l1 - accuracy_train:.4f}')\n",
    "print(f'Мера accuracy. Прирост точности с L1 на тестовом наборе: {accuracy_test_l1 - accuracy_test:.4f}')\n",
    "print(f'F1-мера. Прирост с L1 на тренировочном наборе: {f1_train_l1 - f1_train_l1:.4f}')\n",
    "print(f'F1-мера. Прирост с L1 на тестовом наборе: {f1_test_l1 - f1_test:.4f}')"
   ]
  },
  {
   "cell_type": "markdown",
   "id": "6b7adbff-d68e-41d5-b04c-48f9e1b87caf",
   "metadata": {},
   "source": [
    "#### Таким образом видим, что в нашем примере L1 регуляризация не только не улучшила метрики accuracy и F1, но и ухудшила. Так что в данном примере её использовать нецелесообразно"
   ]
  },
  {
   "cell_type": "markdown",
   "id": "24542f73-df18-4dfd-b909-cb48bbc3fda5",
   "metadata": {},
   "source": [
    "#### Сравнение значений весов"
   ]
  },
  {
   "cell_type": "code",
   "execution_count": 76,
   "id": "ca310050-76ff-4fd5-9435-3ad367085f88",
   "metadata": {},
   "outputs": [
    {
     "name": "stdout",
     "output_type": "stream",
     "text": [
      "Количество нулевых весов без регуляризации: 0\n",
      "Количество нулевых весов с L1-регуляризацией: 1198\n"
     ]
    }
   ],
   "source": [
    "# Коэффициенты модели без регуляризации\n",
    "coefs_orig = sgd.coef_[0]\n",
    "# Коэффициенты модели с L1-регуляризацией\n",
    "coefs_l1 = sgd_l1.coef_[0]\n",
    "\n",
    "# Подсчет нулевых весов\n",
    "zeros_orig = np.sum(coefs_orig == 0)\n",
    "zeros_l1 = np.sum(coefs_l1 == 0)\n",
    "\n",
    "print(f'Количество нулевых весов без регуляризации: {zeros_orig}')\n",
    "print(f'Количество нулевых весов с L1-регуляризацией: {zeros_l1}')"
   ]
  },
  {
   "cell_type": "markdown",
   "id": "d405f30d-afbc-41d2-841a-b2c2547c93fd",
   "metadata": {},
   "source": [
    "#### L1-регуляризация способствует разреживанию весов, зануляя некоторые из них, фактически удаляя некоторые признаки. Это может помочь в отборе признаков (что делает модель проще и легче интерпретируемой) и предотвратить переобучение, уменьшает вычислительную нагрузку.\n"
   ]
  },
  {
   "cell_type": "code",
   "execution_count": 77,
   "id": "c0e3c7eb-3f59-4275-9b3e-6809f326ad20",
   "metadata": {},
   "outputs": [
    {
     "name": "stdout",
     "output_type": "stream",
     "text": [
      "alpha=0.0001, Accuracy=0.7827, F1-score=0.7739, Zero weights=1198\n",
      "alpha=0.001, Accuracy=0.6684, F1-score=0.5877, Zero weights=1950\n",
      "alpha=0.01, Accuracy=0.5739, F1-score=0.3646, Zero weights=1989\n",
      "alpha=0.1, Accuracy=0.5739, F1-score=0.3646, Zero weights=1989\n"
     ]
    }
   ],
   "source": [
    "alphas = [0.0001, 0.001, 0.01, 0.1]\n",
    "for alpha in alphas:\n",
    "    sgd_l1 = SGDClassifier(loss='log_loss', penalty='l1', alpha=alpha, random_state=42)\n",
    "    sgd_l1.fit(X_train_tfidf, y_train)\n",
    "    y_test_pred_l1 = sgd_l1.predict(X_test_tfidf)\n",
    "    accuracy_test_l1 = accuracy_score(y_test, y_test_pred_l1)\n",
    "    f1_test_l1 = f1_score(y_test, y_test_pred_l1, average='macro')\n",
    "    coefs_l1 = sgd_l1.coef_[0]\n",
    "    zeros_l1 = np.sum(coefs_l1 == 0)\n",
    "    print(f'alpha={alpha}, Accuracy={accuracy_test_l1:.4f}, F1-score={f1_test_l1:.4f}, Zero weights={zeros_l1}')"
   ]
  },
  {
   "cell_type": "code",
   "execution_count": 80,
   "id": "4b4c0123-a380-4255-af22-7d09cd0fd450",
   "metadata": {},
   "outputs": [
    {
     "name": "stdout",
     "output_type": "stream",
     "text": [
      "alpha=1e-05, Accuracy=0.7466, F1-score=0.7411, Zero weights=326\n",
      "alpha=0.0001, Accuracy=0.7827, F1-score=0.7739, Zero weights=1198\n",
      "alpha=0.001, Accuracy=0.6684, F1-score=0.5877, Zero weights=1950\n",
      "alpha=0.01, Accuracy=0.5739, F1-score=0.3646, Zero weights=1989\n",
      "alpha=0.1, Accuracy=0.5739, F1-score=0.3646, Zero weights=1989\n"
     ]
    },
    {
     "data": {
      "image/png": "[encoded data removed]",
      "text/plain": [
       "<Figure size 1200x500 with 2 Axes>"
      ]
     },
     "metadata": {},
     "output_type": "display_data"
    }
   ],
   "source": [
    "alphas = [1e-5, 1e-4, 1e-3, 1e-2, 1e-1]\n",
    "accuracy_scores = []\n",
    "f1_scores = []\n",
    "zero_weights = []\n",
    "\n",
    "for alpha in alphas:\n",
    "    sgd_l1 = SGDClassifier(loss='log_loss', penalty='l1', alpha=alpha, random_state=42, max_iter=1000, tol=1e-3)\n",
    "    sgd_l1.fit(X_train_tfidf, y_train)\n",
    "    y_test_pred_l1 = sgd_l1.predict(X_test_tfidf)\n",
    "    accuracy = accuracy_score(y_test, y_test_pred_l1)\n",
    "    f1 = f1_score(y_test, y_test_pred_l1, average='macro')\n",
    "    coefs_l1 = sgd_l1.coef_[0]\n",
    "    zeros_l1 = np.sum(coefs_l1 == 0)\n",
    "    accuracy_scores.append(accuracy)\n",
    "    f1_scores.append(f1)\n",
    "    zero_weights.append(zeros_l1)\n",
    "    print(f'alpha={alpha}, Accuracy={accuracy:.4f}, F1-score={f1:.4f}, Zero weights={zeros_l1}')\n",
    "\n",
    "plt.figure(figsize=(12,5))\n",
    "\n",
    "plt.subplot(1,2,1)\n",
    "plt.plot(alphas, accuracy_scores, marker='o', label='Accuracy')\n",
    "plt.plot(alphas, f1_scores, marker='x', label='F1-score')\n",
    "plt.xscale('log')\n",
    "plt.xlabel('Alpha')\n",
    "plt.ylabel('Метрика')\n",
    "plt.title('Зависимость метрик от alpha')\n",
    "plt.legend()\n",
    "\n",
    "plt.subplot(1,2,2)\n",
    "plt.plot(alphas, zero_weights, marker='s', color='red')\n",
    "plt.xscale('log')\n",
    "plt.xlabel('Alpha')\n",
    "plt.ylabel('Количество нулевых весов')\n",
    "plt.title('Количество нулевых весов в зависимости от alpha')\n",
    "plt.tight_layout()\n",
    "plt.show()"
   ]
  },
  {
   "cell_type": "markdown",
   "id": "6d0ef3eb-2844-4578-bff1-bb6ea556a869",
   "metadata": {},
   "source": [
    "#### из результатов видно, что при увеличении скорости обучения alpha усиливается степень регуляризации, больше коэффициентов становятся равными нулю, увеличивается скорость обучения, однако метрики Accuracy и F1 падают. Это говорит о том, что модель обладает худшей предсказательной способностью, она становится слишком простой и может недообучаться. "
   ]
  },
  {
   "cell_type": "markdown",
   "id": "baba67af-5d57-41ca-845a-c53a3db0df6e",
   "metadata": {},
   "source": [
    "### 5. Обучение нейронной сети с одним скрытым слоем с помощью PyTorch"
   ]
  },
  {
   "cell_type": "code",
   "execution_count": 81,
   "id": "4c59988d-6cbb-404e-85fe-c65a5268976b",
   "metadata": {},
   "outputs": [],
   "source": [
    "import torch\n",
    "import torch.nn as nn\n",
    "import torch.optim as optim\n",
    "from torch.utils.data import TensorDataset, DataLoader\n",
    "\n",
    "# Преобразование матриц TF-IDF в тензоры\n",
    "X_train_tensor = torch.from_numpy(X_train_tfidf.toarray()).float()\n",
    "X_test_tensor = torch.from_numpy(X_test_tfidf.toarray()).float()\n",
    "y_train_tensor = torch.from_numpy(y_train.values).long()\n",
    "y_test_tensor = torch.from_numpy(y_test.values).long()\n",
    "\n",
    "# Создаем датасеты и загрузчики данных\n",
    "batch_size = 64\n",
    "\n",
    "train_dataset = TensorDataset(X_train_tensor, y_train_tensor)\n",
    "test_dataset = TensorDataset(X_test_tensor, y_test_tensor)\n",
    "\n",
    "train_loader = DataLoader(train_dataset, batch_size=batch_size, shuffle=True)\n",
    "test_loader = DataLoader(test_dataset, batch_size=batch_size)"
   ]
  },
  {
   "cell_type": "code",
   "execution_count": 93,
   "id": "e10d91ea-2091-46d3-8b1c-e8c6ac1c44fb",
   "metadata": {},
   "outputs": [],
   "source": [
    "input_size = X_train_tfidf.shape[1]\n",
    "# варьируемые параметры\n",
    "hidden_size = 100  \n",
    "output_size = 2 \n",
    "\n",
    "class SimpleNN(nn.Module):\n",
    "    def __init__(self, init_type=None):\n",
    "        super(SimpleNN, self).__init__()\n",
    "        self.fc1 = nn.Linear(input_size, hidden_size)\n",
    "        self.relu = nn.ReLU()\n",
    "        self.fc2 = nn.Linear(hidden_size, output_size)\n",
    "        \n",
    "        if init_type == 'zeros':\n",
    "            nn.init.zeros_(self.fc1.weight)\n",
    "            nn.init.zeros_(self.fc2.weight)\n",
    "            \n",
    "        elif init_type == 'xavier':\n",
    "            nn.init.xavier_uniform_(self.fc1.weight)\n",
    "            nn.init.xavier_uniform_(self.fc2.weight)\n",
    "            \n",
    "        elif init_type == 'he':\n",
    "            nn.init.kaiming_uniform_(self.fc1.weight, nonlinearity='relu')\n",
    "            nn.init.kaiming_uniform_(self.fc2.weight, nonlinearity='relu')\n",
    "    \n",
    "    def forward(self, x):\n",
    "        out = self.fc1(x)\n",
    "        out = self.relu(out)\n",
    "        out = self.fc2(out)\n",
    "        return out"
   ]
  },
  {
   "cell_type": "code",
   "execution_count": 83,
   "id": "dbbdf29c-fc56-449a-983e-8ced1abb5c02",
   "metadata": {},
   "outputs": [],
   "source": [
    "def train_model(model, train_loader, test_loader, criterion, optimizer, num_epochs):\n",
    "    train_losses = []\n",
    "    test_losses = []\n",
    "    \n",
    "    for epoch in range(num_epochs):\n",
    "        model.train()\n",
    "        running_loss = 0.0\n",
    "        \n",
    "        for i, (inputs, labels) in enumerate(train_loader):\n",
    "            optimizer.zero_grad()\n",
    "            outputs = model(inputs)\n",
    "            loss = criterion(outputs, labels)\n",
    "            loss.backward()\n",
    "            optimizer.step()\n",
    "            running_loss += loss.item()\n",
    "        \n",
    "        avg_train_loss = running_loss / len(train_loader)\n",
    "        train_losses.append(avg_train_loss)\n",
    "        \n",
    "        # Оценка на тестовом наборе\n",
    "        model.eval()\n",
    "        running_loss = 0.0\n",
    "        with torch.no_grad():\n",
    "            for inputs, labels in test_loader:\n",
    "                outputs = model(inputs)\n",
    "                loss = criterion(outputs, labels)\n",
    "                running_loss += loss.item()\n",
    "        avg_test_loss = running_loss / len(test_loader)\n",
    "        test_losses.append(avg_test_loss)\n",
    "        \n",
    "        print(f'Epoch [{epoch+1}/{num_epochs}], Train Loss: {avg_train_loss:.4f}, Test Loss: {avg_test_loss:.4f}')\n",
    "    \n",
    "    return train_losses, test_losses"
   ]
  },
  {
   "cell_type": "code",
   "execution_count": 84,
   "id": "0e14b2f0-6dcc-4664-9248-865d5951ba55",
   "metadata": {},
   "outputs": [
    {
     "name": "stdout",
     "output_type": "stream",
     "text": [
      "Epoch [1/10], Train Loss: 0.6560, Test Loss: 0.5714\n",
      "Epoch [2/10], Train Loss: 0.4678, Test Loss: 0.4582\n",
      "Epoch [3/10], Train Loss: 0.3816, Test Loss: 0.4610\n",
      "Epoch [4/10], Train Loss: 0.3447, Test Loss: 0.4720\n",
      "Epoch [5/10], Train Loss: 0.3230, Test Loss: 0.4870\n",
      "Epoch [6/10], Train Loss: 0.3034, Test Loss: 0.5029\n",
      "Epoch [7/10], Train Loss: 0.2955, Test Loss: 0.5230\n",
      "Epoch [8/10], Train Loss: 0.2804, Test Loss: 0.5368\n",
      "Epoch [9/10], Train Loss: 0.2716, Test Loss: 0.5563\n",
      "Epoch [10/10], Train Loss: 0.2645, Test Loss: 0.5782\n"
     ]
    }
   ],
   "source": [
    "# Нулевая инициализация\n",
    "model_zeros = SimpleNN(init_type='zeros')\n",
    "criterion = nn.CrossEntropyLoss()\n",
    "optimizer = optim.Adam(model_zeros.parameters(), lr=0.001)\n",
    "num_epochs = 10\n",
    "\n",
    "train_losses_zeros, test_losses_zeros = train_model(model_zeros, train_loader, test_loader, criterion, optimizer, num_epochs)"
   ]
  },
  {
   "cell_type": "code",
   "execution_count": 85,
   "id": "54b0c677-9315-4139-b406-6e6a5f62781d",
   "metadata": {},
   "outputs": [
    {
     "name": "stdout",
     "output_type": "stream",
     "text": [
      "Epoch [1/10], Train Loss: 0.6134, Test Loss: 0.5105\n",
      "Epoch [2/10], Train Loss: 0.4241, Test Loss: 0.4556\n",
      "Epoch [3/10], Train Loss: 0.3559, Test Loss: 0.4687\n",
      "Epoch [4/10], Train Loss: 0.3166, Test Loss: 0.4929\n",
      "Epoch [5/10], Train Loss: 0.2904, Test Loss: 0.5137\n",
      "Epoch [6/10], Train Loss: 0.2714, Test Loss: 0.5353\n",
      "Epoch [7/10], Train Loss: 0.2534, Test Loss: 0.5609\n",
      "Epoch [8/10], Train Loss: 0.2367, Test Loss: 0.5942\n",
      "Epoch [9/10], Train Loss: 0.2231, Test Loss: 0.6168\n",
      "Epoch [10/10], Train Loss: 0.2092, Test Loss: 0.6438\n"
     ]
    }
   ],
   "source": [
    "# Xavier инициализация\n",
    "model_xavier = SimpleNN(init_type='xavier')\n",
    "optimizer = optim.Adam(model_xavier.parameters(), lr=0.001)\n",
    "\n",
    "train_losses_xavier, test_losses_xavier = train_model(model_xavier, train_loader, test_loader, criterion, optimizer, num_epochs)"
   ]
  },
  {
   "cell_type": "code",
   "execution_count": 86,
   "id": "57293c76-4347-4c5f-9852-d9e8ce661e79",
   "metadata": {},
   "outputs": [
    {
     "name": "stdout",
     "output_type": "stream",
     "text": [
      "Epoch [1/10], Train Loss: 0.6250, Test Loss: 0.5225\n",
      "Epoch [2/10], Train Loss: 0.4338, Test Loss: 0.4599\n",
      "Epoch [3/10], Train Loss: 0.3563, Test Loss: 0.4697\n",
      "Epoch [4/10], Train Loss: 0.3194, Test Loss: 0.4884\n",
      "Epoch [5/10], Train Loss: 0.2911, Test Loss: 0.5107\n",
      "Epoch [6/10], Train Loss: 0.2717, Test Loss: 0.5335\n",
      "Epoch [7/10], Train Loss: 0.2532, Test Loss: 0.5638\n",
      "Epoch [8/10], Train Loss: 0.2355, Test Loss: 0.5856\n",
      "Epoch [9/10], Train Loss: 0.2264, Test Loss: 0.6125\n",
      "Epoch [10/10], Train Loss: 0.2076, Test Loss: 0.6426\n"
     ]
    }
   ],
   "source": [
    "# he инициализация\n",
    "model_he = SimpleNN(init_type='he')\n",
    "optimizer = optim.Adam(model_he.parameters(), lr=0.001)\n",
    "\n",
    "train_losses_he, test_losses_he = train_model(model_he, train_loader, test_loader, criterion, optimizer, num_epochs)"
   ]
  },
  {
   "cell_type": "code",
   "execution_count": 87,
   "id": "8c6d802a-681d-48fb-ba7b-1739a8048793",
   "metadata": {},
   "outputs": [
    {
     "data": {
      "image/png": "[encoded data removed]",
      "text/plain": [
       "<Figure size 1200x500 with 2 Axes>"
      ]
     },
     "metadata": {},
     "output_type": "display_data"
    }
   ],
   "source": [
    "epochs = range(1, num_epochs+1)\n",
    "\n",
    "plt.figure(figsize=(12,5))\n",
    "\n",
    "plt.subplot(1,2,1)\n",
    "plt.plot(epochs, train_losses_zeros, label='Zeros Init')\n",
    "plt.plot(epochs, train_losses_xavier, label='Xavier Init')\n",
    "plt.plot(epochs, train_losses_he, label='He Init')\n",
    "plt.xlabel('Epoch')\n",
    "plt.ylabel('Train Loss')\n",
    "plt.title('Потери на обучающей выборке')\n",
    "plt.legend()\n",
    "\n",
    "plt.subplot(1,2,2)\n",
    "plt.plot(epochs, test_losses_zeros, label='Zeros Init')\n",
    "plt.plot(epochs, test_losses_xavier, label='Xavier Init')\n",
    "plt.plot(epochs, test_losses_he, label='He Init')\n",
    "plt.xlabel('Epoch')\n",
    "plt.ylabel('Test Loss')\n",
    "plt.title('Потери на тестовой выборке')\n",
    "plt.legend()\n",
    "\n",
    "plt.tight_layout()\n",
    "plt.show()"
   ]
  },
  {
   "cell_type": "markdown",
   "id": "b149a80e-aec6-4bca-bf30-2b4a29c09ecc",
   "metadata": {},
   "source": [
    "#### Исходя из графиков ошибок видно, что модель с инициализациями: нулевая, xavier, he переобучается, так как loss-функция на тренировочной выборке стабильно падает, а на тестовой начинает со второй эпохи увеличиваться. Также видно, что модель с нулевой инициализацией весов имеет худшие показатели изменения функции ошибки на тренировочных данных, но несмотря на это, для неё ошибка на тестовой выборке растёт меньше всего, что значит, что и модель переобучается меньше. Модель с нулевой инициализацией, как правило, работает плохо, поскольку все нейроны получают одинаковые обновления и модель может не обучаться. "
   ]
  },
  {
   "cell_type": "code",
   "execution_count": 88,
   "id": "0fd405ee-388d-4c44-b69e-a40ad2d3ffc2",
   "metadata": {},
   "outputs": [],
   "source": [
    "def evaluate_model(model, loader):\n",
    "    model.eval()\n",
    "    all_preds = []\n",
    "    all_labels = []\n",
    "    \n",
    "    with torch.no_grad():\n",
    "        for inputs, labels in loader:\n",
    "            outputs = model(inputs)\n",
    "            _, preds = torch.max(outputs, 1)\n",
    "            all_preds.extend(preds.numpy())\n",
    "            all_labels.extend(labels.numpy())\n",
    "    \n",
    "    accuracy = accuracy_score(all_labels, all_preds)\n",
    "    f1_macro = f1_score(all_labels, all_preds, average='macro')\n",
    "    f1_micro = f1_score(all_labels, all_preds, average='micro')\n",
    "    return accuracy, f1_macro, f1_micro"
   ]
  },
  {
   "cell_type": "code",
   "execution_count": 90,
   "id": "65efe784-8c41-4b2f-9bc0-89dd0bfa8713",
   "metadata": {},
   "outputs": [
    {
     "name": "stdout",
     "output_type": "stream",
     "text": [
      "Results with Zero Initialization:\n",
      "Accuracy: 0.7584, F1 Macro: 0.7525, F1 Micro: 0.7584\n",
      "\n",
      "Results with Xavier Initialization:\n",
      "Accuracy: 0.7525, F1 Macro: 0.7467, F1 Micro: 0.7525\n",
      "\n",
      "Results with He Initialization:\n",
      "Accuracy: 0.7466, F1 Macro: 0.7405, F1 Micro: 0.7466\n"
     ]
    }
   ],
   "source": [
    "# Оценка моделей \n",
    "\n",
    "accuracy_zeros, f1_macro_zeros, f1_micro_zeros = evaluate_model(model_zeros, test_loader)\n",
    "accuracy_xavier, f1_macro_xavier, f1_micro_xavier = evaluate_model(model_xavier, test_loader)\n",
    "accuracy_he, f1_macro_he, f1_micro_he = evaluate_model(model_he, test_loader)\n",
    "\n",
    "print('Results with Zero Initialization:')\n",
    "print(f'Accuracy: {accuracy_zeros:.4f}, F1 Macro: {f1_macro_zeros:.4f}, F1 Micro: {f1_micro_zeros:.4f}\\n')\n",
    "\n",
    "print('Results with Xavier Initialization:')\n",
    "print(f'Accuracy: {accuracy_xavier:.4f}, F1 Macro: {f1_macro_xavier:.4f}, F1 Micro: {f1_micro_xavier:.4f}\\n')\n",
    "\n",
    "print('Results with He Initialization:')\n",
    "print(f'Accuracy: {accuracy_he:.4f}, F1 Macro: {f1_macro_he:.4f}, F1 Micro: {f1_micro_he:.4f}')"
   ]
  },
  {
   "cell_type": "code",
   "execution_count": 92,
   "id": "c5443ad5-b051-4d6a-9e9b-80b373086f1e",
   "metadata": {},
   "outputs": [
    {
     "data": {
      "text/html": [
       "<div>\n",
       "<style scoped>\n",
       "    .dataframe tbody tr th:only-of-type {\n",
       "        vertical-align: middle;\n",
       "    }\n",
       "\n",
       "    .dataframe tbody tr th {\n",
       "        vertical-align: top;\n",
       "    }\n",
       "\n",
       "    .dataframe thead th {\n",
       "        text-align: right;\n",
       "    }\n",
       "</style>\n",
       "<table border=\"1\" class=\"dataframe\">\n",
       "  <thead>\n",
       "    <tr style=\"text-align: right;\">\n",
       "      <th></th>\n",
       "      <th>Model</th>\n",
       "      <th>Accuracy</th>\n",
       "      <th>F1 Macro</th>\n",
       "      <th>F1 Micro</th>\n",
       "    </tr>\n",
       "  </thead>\n",
       "  <tbody>\n",
       "    <tr>\n",
       "      <th>0</th>\n",
       "      <td>Logistic Regression</td>\n",
       "      <td>0.787919</td>\n",
       "      <td>0.778378</td>\n",
       "      <td>0.778378</td>\n",
       "    </tr>\n",
       "    <tr>\n",
       "      <th>1</th>\n",
       "      <td>Logistic Regression with L1</td>\n",
       "      <td>0.573867</td>\n",
       "      <td>0.364622</td>\n",
       "      <td>0.364622</td>\n",
       "    </tr>\n",
       "    <tr>\n",
       "      <th>2</th>\n",
       "      <td>NN Zero Init</td>\n",
       "      <td>0.758372</td>\n",
       "      <td>0.752478</td>\n",
       "      <td>0.758372</td>\n",
       "    </tr>\n",
       "    <tr>\n",
       "      <th>3</th>\n",
       "      <td>NN Xavier Init</td>\n",
       "      <td>0.752462</td>\n",
       "      <td>0.746685</td>\n",
       "      <td>0.752462</td>\n",
       "    </tr>\n",
       "    <tr>\n",
       "      <th>4</th>\n",
       "      <td>NN He Init</td>\n",
       "      <td>0.746553</td>\n",
       "      <td>0.740479</td>\n",
       "      <td>0.746553</td>\n",
       "    </tr>\n",
       "  </tbody>\n",
       "</table>\n",
       "</div>"
      ],
      "text/plain": [
       "                         Model  Accuracy  F1 Macro  F1 Micro\n",
       "0          Logistic Regression  0.787919  0.778378  0.778378\n",
       "1  Logistic Regression with L1  0.573867  0.364622  0.364622\n",
       "2                 NN Zero Init  0.758372  0.752478  0.758372\n",
       "3               NN Xavier Init  0.752462  0.746685  0.752462\n",
       "4                   NN He Init  0.746553  0.740479  0.746553"
      ]
     },
     "execution_count": 92,
     "metadata": {},
     "output_type": "execute_result"
    }
   ],
   "source": [
    "results = pd.DataFrame({\n",
    "    'Model': ['Logistic Regression', 'Logistic Regression with L1', 'NN Zero Init', 'NN Xavier Init', 'NN He Init'],\n",
    "    'Accuracy': [accuracy_test, accuracy_test_l1, accuracy_zeros, accuracy_xavier, accuracy_he],\n",
    "    'F1 Macro': [f1_test, f1_test_l1, f1_macro_zeros, f1_macro_xavier, f1_macro_he],\n",
    "    'F1 Micro': [f1_test, f1_test_l1, f1_micro_zeros, f1_micro_xavier, f1_micro_he]\n",
    "})\n",
    "\n",
    "results"
   ]
  },
  {
   "cell_type": "markdown",
   "id": "ae4a4aee-4044-410f-a11d-f7df39195b08",
   "metadata": {},
   "source": [
    "#### - 1. Обычная логистическая регрессия показала лучшие результаты по всем метрикам\n",
    "#### - 5. Логистическая регрессия с L1-регуляризацией показала худшие результаты в целом и по сравнению с обычной логистической регрессией в частности, возможно из-за чрезмерного упрощения.\n",
    "#### - 2. Нейронная сеть с нулевой инициализацией заняла второе место.\n",
    "#### - 3. Нейронная сеть с xavier-инициализацией заняла третье место.\n",
    "#### - 4. Нейронная сеть с he-инициализацией показала четвёртое место.\n"
   ]
  },
  {
   "cell_type": "code",
   "execution_count": null,
   "id": "bc2b7707-f997-49c0-b442-8ece46ce66a4",
   "metadata": {},
   "outputs": [],
   "source": []
  }
 ],
 "metadata": {
  "kernelspec": {
   "display_name": "Python 3 (ipykernel)",
   "language": "python",
   "name": "python3"
  },
  "language_info": {
   "codemirror_mode": {
    "name": "ipython",
    "version": 3
   },
   "file_extension": ".py",
   "mimetype": "text/x-python",
   "name": "python",
   "nbconvert_exporter": "python",
   "pygments_lexer": "ipython3",
   "version": "3.11.4"
  }
 },
 "nbformat": 4,
 "nbformat_minor": 5
}
