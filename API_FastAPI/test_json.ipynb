{
 "cells": [
  {
   "cell_type": "code",
   "execution_count": 5,
   "id": "6f5805c8-ba9a-4043-8726-210cc1678a81",
   "metadata": {},
   "outputs": [
    {
     "name": "stdout",
     "output_type": "stream",
     "text": [
      "    cat   num1   num2  num3   num4\n",
      "0     A    0.0   10.0   0.0    5.0\n",
      "1     B  -50.5  150.0  None  100.0\n",
      "2  None  100.0    0.0   2.0  -10.0\n",
      "3     C   50.0  200.0   2.0   3.14\n",
      "4     A -100.0  199.9  None    0.0\n",
      "{'clients': [{'cat': 'A', 'num1': 0.0, 'num2': 10.0, 'num3': 0.0, 'num4': 5.0}, {'cat': 'B', 'num1': -50.5, 'num2': 150.0, 'num3': None, 'num4': 100.0}, {'cat': None, 'num1': 100.0, 'num2': 0.0, 'num3': 2.0, 'num4': -10.0}, {'cat': 'C', 'num1': 50.0, 'num2': 200.0, 'num3': 2.0, 'num4': 3.14}, {'cat': 'A', 'num1': -100.0, 'num2': 199.9, 'num3': None, 'num4': 0.0}]}\n"
     ]
    }
   ],
   "source": [
    "import pandas as pd\n",
    "import numpy as np\n",
    "from app.models import FEATURE_NAMES\n",
    "import json\n",
    "\n",
    "# Собираем DataFrame (столбец \"num4\" — вместо \"feat4\"):\n",
    "df = pd.DataFrame([\n",
    "    {\"cat\": \"A\",   \"num1\":   0.0,    \"num2\":  10.0, \"num3\": 0,    \"num4\":  5.0},\n",
    "    {\"cat\": \"B\",   \"num1\": -50.5,    \"num2\": 150.0, \"num3\": np.nan, \"num4\": 100.0},\n",
    "    {\"cat\": np.nan,\"num1\": 100.0,    \"num2\":   0.0, \"num3\": 2,    \"num4\": -10.0},\n",
    "    {\"cat\": \"C\",   \"num1\":  50.0,    \"num2\": 200.0, \"num3\": 2,    \"num4\":  3.14},\n",
    "    {\"cat\": \"A\",   \"num1\": -100.0,   \"num2\": 199.9, \"num3\": np.nan, \"num4\":  0.0}\n",
    "], columns=[\"cat\", \"num1\", \"num2\", \"num3\", \"num4\"])\n",
    "\n",
    "# Проверяем наличие всех колонок:\n",
    "assert set(FEATURE_NAMES).issubset(set(df.columns)), \\\n",
    "       f\"Отсутствуют колонки: {set(FEATURE_NAMES) - set(df.columns)}\"\n",
    "\n",
    "# Берём только нужные поля в нужном порядке:\n",
    "df2 = df[FEATURE_NAMES]\n",
    "\n",
    "# Сначала переводим весь df2 в object-тип, чтобы None не преобразовывался обратно в NaN:\n",
    "df2 = df2.astype(object)\n",
    "\n",
    "# Теперь заменяем все np.nan на None (Python None). \n",
    "# Поскольку dtype уже object, None останется None, а не снова NaN.\n",
    "df2 = df2.where(pd.notnull(df2), None)\n",
    "\n",
    "# На этом этапе df2 должен выглядеть так (None там, где раньше были NaN):\n",
    "print(df2)\n",
    "#     cat   num1   num2  num3    num4\n",
    "# 0     A    0.0   10.0     0      5.0\n",
    "# 1     B  -50.5  150.0  None    100.0\n",
    "# 2  None  100.0    0.0     2    -10.0\n",
    "# 3     C   50.0  200.0     2      3.14\n",
    "# 4     A -100.0  199.9  None      0.0\n",
    "\n",
    "# Дальше собираем первые 5 строк (у нас их и так ровно 5):\n",
    "subset = df2.head(5)\n",
    "\n",
    "# Превращаем в список словарей:\n",
    "clients_list_of_dicts = subset.to_dict(orient=\"records\")\n",
    "\n",
    "payload = {\"clients\": clients_list_of_dicts}\n",
    "print(payload)\n",
    "\n",
    "# Сохраняем в payload.json: Python None станет в JSON \"null\"\n",
    "with open(\"payload.json\", \"w\", encoding=\"utf-8\") as f:\n",
    "    json.dump(payload, f, ensure_ascii=False, indent=2)\n"
   ]
  },
  {
   "cell_type": "code",
   "execution_count": 8,
   "id": "0448ff06-e393-459a-b856-9b8e0f164151",
   "metadata": {},
   "outputs": [
    {
     "name": "stdout",
     "output_type": "stream",
     "text": [
      "/Users/alexrust/Documents/work_Artem_Kononenko/Work_Artem/FastAPI/API_decomposition_2/app/models.py\n",
      "['cat', 'num1', 'num2', 'num3', 'num4']\n"
     ]
    }
   ],
   "source": [
    "import app.models as models\n",
    "print(models.__file__)\n",
    "print(models.FEATURE_NAMES)"
   ]
  },
  {
   "cell_type": "code",
   "execution_count": null,
   "id": "d98c2b1b-fcdf-4baf-b0b1-a7454ba84f3f",
   "metadata": {},
   "outputs": [],
   "source": []
  }
 ],
 "metadata": {
  "kernelspec": {
   "display_name": "Python (venv312)",
   "language": "python",
   "name": "venv312"
  },
  "language_info": {
   "codemirror_mode": {
    "name": "ipython",
    "version": 3
   },
   "file_extension": ".py",
   "mimetype": "text/x-python",
   "name": "python",
   "nbconvert_exporter": "python",
   "pygments_lexer": "ipython3",
   "version": "3.12.10"
  }
 },
 "nbformat": 4,
 "nbformat_minor": 5
}
